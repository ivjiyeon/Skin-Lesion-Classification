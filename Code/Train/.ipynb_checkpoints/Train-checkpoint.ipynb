{
 "cells": [
  {
   "cell_type": "code",
   "execution_count": 2,
   "metadata": {},
   "outputs": [],
   "source": [
    "import tensorflow as tf\n",
    "import numpy as np\n",
    "import matplotlib.pyplot as plt"
   ]
  },
  {
   "cell_type": "code",
   "execution_count": 3,
   "metadata": {},
   "outputs": [],
   "source": [
    "from tensorflow import FixedLenFeature"
   ]
  },
  {
   "cell_type": "code",
   "execution_count": 4,
   "metadata": {},
   "outputs": [],
   "source": [
    "featdef = {\n",
    "    'train/image': FixedLenFeature(shape=[], dtype= tf.string),\n",
    "    'train/label': FixedLenFeature(shape = [], dtype = tf.int64)\n",
    "}"
   ]
  },
  {
   "cell_type": "code",
   "execution_count": 80,
   "metadata": {},
   "outputs": [],
   "source": [
    "def _parse_record (example_proto, clip = False):\n",
    "    ex = tf.parse_single_example(example_proto, featdef)\n",
    "    \n",
    "    im = tf.decode_raw(ex['train/image'], tf.uint8)\n",
    "    im = tf.reshape(im, (28,28,3))\n",
    "    im = tf.cast(im, tf.float32)*(1./255)\n",
    "    \n",
    "    label = (ex['train/label'])\n",
    "    label = tf.one_hot(ex['train/label'], 2)\n",
    "    print(label)\n",
    "    print(im)\n",
    "    return im, label\n",
    "    "
   ]
  },
  {
   "cell_type": "code",
   "execution_count": 81,
   "metadata": {},
   "outputs": [
    {
     "name": "stdout",
     "output_type": "stream",
     "text": [
      "Tensor(\"ParseSingleExample/ParseSingleExample:1\", shape=(), dtype=int64)\n",
      "Tensor(\"mul:0\", shape=(28, 28, 3), dtype=float32)\n"
     ]
    }
   ],
   "source": [
    "batch_size = 18\n",
    "ds_train = tf.data.TFRecordDataset('/home/mudit/AI/TFrecord_Datasets/Melanoma_training_uint8.tfrecords').map(_parse_record)\n",
    "\n",
    "ds_train = ds_train.repeat().batch(batch_size)\n"
   ]
  },
  {
   "cell_type": "code",
   "execution_count": 82,
   "metadata": {},
   "outputs": [
    {
     "name": "stdout",
     "output_type": "stream",
     "text": [
      "(array([[[[0.8588236 , 0.6156863 , 0.45098042],\n",
      "         [0.85098046, 0.6117647 , 0.43529415],\n",
      "         [0.8588236 , 0.6117647 , 0.43921572],\n",
      "         ...,\n",
      "         [0.86274517, 0.6       , 0.43137258],\n",
      "         [0.8705883 , 0.63529414, 0.43921572],\n",
      "         [0.8588236 , 0.6117647 , 0.43529415]],\n",
      "\n",
      "        [[0.8352942 , 0.5882353 , 0.40000004],\n",
      "         [0.8470589 , 0.61960787, 0.44705886],\n",
      "         [0.86274517, 0.61960787, 0.43529415],\n",
      "         ...,\n",
      "         [0.86274517, 0.6313726 , 0.43137258],\n",
      "         [0.8705883 , 0.6313726 , 0.45882356],\n",
      "         [0.8235295 , 0.59607846, 0.43529415]],\n",
      "\n",
      "        [[0.8431373 , 0.5764706 , 0.37647063],\n",
      "         [0.82745105, 0.56078434, 0.36078432],\n",
      "         [0.8588236 , 0.6       , 0.41176474],\n",
      "         ...,\n",
      "         [0.8588236 , 0.60784316, 0.427451  ],\n",
      "         [0.86666673, 0.6039216 , 0.43529415],\n",
      "         [0.86666673, 0.6117647 , 0.43921572]],\n",
      "\n",
      "        ...,\n",
      "\n",
      "        [[0.89019614, 0.627451  , 0.45882356],\n",
      "         [0.8705883 , 0.6117647 , 0.43921572],\n",
      "         [0.8862746 , 0.62352943, 0.45882356],\n",
      "         ...,\n",
      "         [0.8980393 , 0.64705884, 0.47450984],\n",
      "         [0.9058824 , 0.6431373 , 0.4666667 ],\n",
      "         [0.8941177 , 0.6313726 , 0.454902  ]],\n",
      "\n",
      "        [[0.87843144, 0.60784316, 0.45882356],\n",
      "         [0.8588236 , 0.59607846, 0.42352945],\n",
      "         [0.89019614, 0.6392157 , 0.4666667 ],\n",
      "         ...,\n",
      "         [0.882353  , 0.627451  , 0.4156863 ],\n",
      "         [0.882353  , 0.6039216 , 0.43137258],\n",
      "         [0.8941177 , 0.627451  , 0.45098042]],\n",
      "\n",
      "        [[0.882353  , 0.6117647 , 0.45882356],\n",
      "         [0.8745099 , 0.60784316, 0.4666667 ],\n",
      "         [0.8941177 , 0.627451  , 0.47450984],\n",
      "         ...,\n",
      "         [0.8980393 , 0.6313726 , 0.4431373 ],\n",
      "         [0.89019614, 0.64705884, 0.454902  ],\n",
      "         [0.8941177 , 0.64705884, 0.4784314 ]]],\n",
      "\n",
      "\n",
      "       [[[0.06666667, 0.07450981, 0.07058824],\n",
      "         [0.24313727, 0.25490198, 0.2901961 ],\n",
      "         [0.39607847, 0.4039216 , 0.45098042],\n",
      "         ...,\n",
      "         [0.5294118 , 0.5254902 , 0.5882353 ],\n",
      "         [0.42352945, 0.41960788, 0.48235297],\n",
      "         [0.2509804 , 0.25490198, 0.3254902 ]],\n",
      "\n",
      "        [[0.16470589, 0.16470589, 0.21176472],\n",
      "         [0.3529412 , 0.3647059 , 0.40000004],\n",
      "         [0.47450984, 0.48627454, 0.52156866],\n",
      "         ...,\n",
      "         [0.58431375, 0.5882353 , 0.6666667 ],\n",
      "         [0.5058824 , 0.5019608 , 0.57254905],\n",
      "         [0.3529412 , 0.3647059 , 0.43137258]],\n",
      "\n",
      "        [[0.26666668, 0.26666668, 0.29803923],\n",
      "         [0.43921572, 0.43921572, 0.48627454],\n",
      "         [0.54509807, 0.54509807, 0.58431375],\n",
      "         ...,\n",
      "         [0.6627451 , 0.654902  , 0.7372549 ],\n",
      "         [0.54901963, 0.5411765 , 0.62352943],\n",
      "         [0.43921572, 0.4431373 , 0.5058824 ]],\n",
      "\n",
      "        ...,\n",
      "\n",
      "        [[0.4431373 , 0.43921572, 0.5019608 ],\n",
      "         [0.5647059 , 0.56078434, 0.6156863 ],\n",
      "         [0.654902  , 0.64705884, 0.69803923],\n",
      "         ...,\n",
      "         [0.7019608 , 0.7058824 , 0.7843138 ],\n",
      "         [0.6509804 , 0.64705884, 0.7176471 ],\n",
      "         [0.5686275 , 0.56078434, 0.6431373 ]],\n",
      "\n",
      "        [[0.3647059 , 0.3647059 , 0.41176474],\n",
      "         [0.50980395, 0.50980395, 0.5568628 ],\n",
      "         [0.6156863 , 0.6117647 , 0.68235296],\n",
      "         ...,\n",
      "         [0.69803923, 0.6901961 , 0.7725491 ],\n",
      "         [0.6039216 , 0.5921569 , 0.6666667 ],\n",
      "         [0.52156866, 0.5137255 , 0.57254905]],\n",
      "\n",
      "        [[0.27450982, 0.27058825, 0.33333334],\n",
      "         [0.454902  , 0.454902  , 0.49411768],\n",
      "         [0.5647059 , 0.56078434, 0.6156863 ],\n",
      "         ...,\n",
      "         [0.64705884, 0.64705884, 0.69803923],\n",
      "         [0.54901963, 0.5568628 , 0.62352943],\n",
      "         [0.45098042, 0.44705886, 0.5137255 ]]],\n",
      "\n",
      "\n",
      "       [[[0.37647063, 0.38823533, 0.3529412 ],\n",
      "         [0.54901963, 0.56078434, 0.47450984],\n",
      "         [0.5647059 , 0.54509807, 0.427451  ],\n",
      "         ...,\n",
      "         [0.5137255 , 0.45098042, 0.3137255 ],\n",
      "         [0.40000004, 0.3372549 , 0.2784314 ],\n",
      "         [0.27450982, 0.27450982, 0.24313727]],\n",
      "\n",
      "        [[0.44705886, 0.4431373 , 0.36078432],\n",
      "         [0.5411765 , 0.5176471 , 0.41176474],\n",
      "         [0.6039216 , 0.5921569 , 0.5019608 ],\n",
      "         ...,\n",
      "         [0.56078434, 0.5058824 , 0.3921569 ],\n",
      "         [0.49803925, 0.43921572, 0.3254902 ],\n",
      "         [0.3529412 , 0.3137255 , 0.28235295]],\n",
      "\n",
      "        [[0.5176471 , 0.5019608 , 0.4039216 ],\n",
      "         [0.59607846, 0.5803922 , 0.48235297],\n",
      "         [0.62352943, 0.60784316, 0.5019608 ],\n",
      "         ...,\n",
      "         [0.5803922 , 0.5254902 , 0.42352945],\n",
      "         [0.5411765 , 0.4901961 , 0.3647059 ],\n",
      "         [0.46274513, 0.41960788, 0.34901962]],\n",
      "\n",
      "        ...,\n",
      "\n",
      "        [[0.6       , 0.60784316, 0.5529412 ],\n",
      "         [0.627451  , 0.6392157 , 0.57254905],\n",
      "         [0.65882355, 0.6666667 , 0.58431375],\n",
      "         ...,\n",
      "         [0.627451  , 0.61960787, 0.56078434],\n",
      "         [0.6       , 0.5921569 , 0.53333336],\n",
      "         [0.5647059 , 0.5764706 , 0.53333336]],\n",
      "\n",
      "        [[0.5647059 , 0.5803922 , 0.50980395],\n",
      "         [0.627451  , 0.6431373 , 0.5882353 ],\n",
      "         [0.6313726 , 0.627451  , 0.5568628 ],\n",
      "         ...,\n",
      "         [0.6039216 , 0.59607846, 0.5254902 ],\n",
      "         [0.5803922 , 0.59607846, 0.5372549 ],\n",
      "         [0.454902  , 0.46274513, 0.41960788]],\n",
      "\n",
      "        [[0.5058824 , 0.5137255 , 0.45882356],\n",
      "         [0.59607846, 0.627451  , 0.5529412 ],\n",
      "         [0.627451  , 0.6392157 , 0.5568628 ],\n",
      "         ...,\n",
      "         [0.5882353 , 0.5921569 , 0.5372549 ],\n",
      "         [0.5372549 , 0.54509807, 0.5019608 ],\n",
      "         [0.40784317, 0.4156863 , 0.37254903]]],\n",
      "\n",
      "\n",
      "       ...,\n",
      "\n",
      "\n",
      "       [[[0.50980395, 0.44705886, 0.38823533],\n",
      "         [0.5568628 , 0.49411768, 0.43529415],\n",
      "         [0.58431375, 0.52156866, 0.4666667 ],\n",
      "         ...,\n",
      "         [0.6313726 , 0.59607846, 0.58431375],\n",
      "         [0.42352945, 0.4431373 , 0.4901961 ],\n",
      "         [0.43529415, 0.4666667 , 0.5058824 ]],\n",
      "\n",
      "        [[0.53333336, 0.49411768, 0.44705886],\n",
      "         [0.5921569 , 0.5372549 , 0.49411768],\n",
      "         [0.58431375, 0.5137255 , 0.45098042],\n",
      "         ...,\n",
      "         [0.63529414, 0.5921569 , 0.5686275 ],\n",
      "         [0.6039216 , 0.5803922 , 0.5882353 ],\n",
      "         [0.28235295, 0.2784314 , 0.3019608 ]],\n",
      "\n",
      "        [[0.5647059 , 0.50980395, 0.47058827],\n",
      "         [0.59607846, 0.54901963, 0.5019608 ],\n",
      "         [0.5882353 , 0.5176471 , 0.46274513],\n",
      "         ...,\n",
      "         [0.6431373 , 0.5764706 , 0.5568628 ],\n",
      "         [0.6392157 , 0.60784316, 0.6       ],\n",
      "         [0.4156863 , 0.41176474, 0.44705886]],\n",
      "\n",
      "        ...,\n",
      "\n",
      "        [[0.50980395, 0.44705886, 0.4156863 ],\n",
      "         [0.6039216 , 0.5372549 , 0.45882356],\n",
      "         [0.62352943, 0.56078434, 0.4901961 ],\n",
      "         ...,\n",
      "         [0.59607846, 0.53333336, 0.4784314 ],\n",
      "         [0.5882353 , 0.52156866, 0.4901961 ],\n",
      "         [0.56078434, 0.49803925, 0.47058827]],\n",
      "\n",
      "        [[0.29411766, 0.21960786, 0.19215688],\n",
      "         [0.60784316, 0.56078434, 0.4901961 ],\n",
      "         [0.6156863 , 0.54509807, 0.45098042],\n",
      "         ...,\n",
      "         [0.6       , 0.5372549 , 0.4784314 ],\n",
      "         [0.6       , 0.5254902 , 0.4901961 ],\n",
      "         [0.49803925, 0.43137258, 0.3921569 ]],\n",
      "\n",
      "        [[0.48627454, 0.4156863 , 0.4039216 ],\n",
      "         [0.6117647 , 0.54509807, 0.4784314 ],\n",
      "         [0.61960787, 0.54509807, 0.4666667 ],\n",
      "         ...,\n",
      "         [0.58431375, 0.5176471 , 0.47058827],\n",
      "         [0.57254905, 0.5058824 , 0.4784314 ],\n",
      "         [0.0627451 , 0.05490196, 0.06666667]]],\n",
      "\n",
      "\n",
      "       [[[0.64705884, 0.5254902 , 0.4431373 ],\n",
      "         [0.7058824 , 0.6156863 , 0.56078434],\n",
      "         [0.7254902 , 0.654902  , 0.60784316],\n",
      "         ...,\n",
      "         [0.68235296, 0.5764706 , 0.50980395],\n",
      "         [0.69411767, 0.5803922 , 0.5019608 ],\n",
      "         [0.73333335, 0.6784314 , 0.6666667 ]],\n",
      "\n",
      "        [[0.6392157 , 0.5294118 , 0.46274513],\n",
      "         [0.7019608 , 0.62352943, 0.5647059 ],\n",
      "         [0.75294125, 0.6627451 , 0.60784316],\n",
      "         ...,\n",
      "         [0.7019608 , 0.6       , 0.5411765 ],\n",
      "         [0.69803923, 0.60784316, 0.5529412 ],\n",
      "         [0.8000001 , 0.7686275 , 0.7607844 ]],\n",
      "\n",
      "        [[0.6313726 , 0.5411765 , 0.48627454],\n",
      "         [0.7176471 , 0.63529414, 0.5803922 ],\n",
      "         [0.7176471 , 0.6313726 , 0.5411765 ],\n",
      "         ...,\n",
      "         [0.70980394, 0.59607846, 0.5254902 ],\n",
      "         [0.6901961 , 0.5803922 , 0.49803925],\n",
      "         [0.69411767, 0.6       , 0.5529412 ]],\n",
      "\n",
      "        ...,\n",
      "\n",
      "        [[0.7294118 , 0.6313726 , 0.6039216 ],\n",
      "         [0.7058824 , 0.57254905, 0.5254902 ],\n",
      "         [0.7176471 , 0.6117647 , 0.5294118 ],\n",
      "         ...,\n",
      "         [0.70980394, 0.59607846, 0.5411765 ],\n",
      "         [0.7058824 , 0.6156863 , 0.5529412 ],\n",
      "         [0.69411767, 0.5882353 , 0.5137255 ]],\n",
      "\n",
      "        [[0.7294118 , 0.6862745 , 0.6784314 ],\n",
      "         [0.7058824 , 0.5803922 , 0.49411768],\n",
      "         [0.73333335, 0.627451  , 0.5568628 ],\n",
      "         ...,\n",
      "         [0.7137255 , 0.6117647 , 0.5529412 ],\n",
      "         [0.7019608 , 0.6       , 0.5411765 ],\n",
      "         [0.5803922 , 0.4666667 , 0.41176474]],\n",
      "\n",
      "        [[0.7686275 , 0.70980394, 0.6901961 ],\n",
      "         [0.7372549 , 0.63529414, 0.5882353 ],\n",
      "         [0.7176471 , 0.6       , 0.5254902 ],\n",
      "         ...,\n",
      "         [0.69803923, 0.6117647 , 0.5568628 ],\n",
      "         [0.6784314 , 0.5882353 , 0.5176471 ],\n",
      "         [0.64705884, 0.5568628 , 0.49411768]]],\n",
      "\n",
      "\n",
      "       [[[0.24313727, 0.24313727, 0.28235295],\n",
      "         [0.5803922 , 0.50980395, 0.49411768],\n",
      "         [0.67058825, 0.5764706 , 0.5529412 ],\n",
      "         ...,\n",
      "         [0.68235296, 0.6039216 , 0.60784316],\n",
      "         [0.6862745 , 0.5921569 , 0.5764706 ],\n",
      "         [0.3254902 , 0.3254902 , 0.37254903]],\n",
      "\n",
      "        [[0.5647059 , 0.5058824 , 0.5058824 ],\n",
      "         [0.6784314 , 0.62352943, 0.61960787],\n",
      "         [0.69803923, 0.6392157 , 0.61960787],\n",
      "         ...,\n",
      "         [0.68235296, 0.6039216 , 0.6       ],\n",
      "         [0.6784314 , 0.59607846, 0.5764706 ],\n",
      "         [0.627451  , 0.54509807, 0.5411765 ]],\n",
      "\n",
      "        [[0.40784317, 0.36862746, 0.37254903],\n",
      "         [0.68235296, 0.627451  , 0.62352943],\n",
      "         [0.69803923, 0.59607846, 0.5764706 ],\n",
      "         ...,\n",
      "         [0.68235296, 0.6039216 , 0.5803922 ],\n",
      "         [0.6862745 , 0.60784316, 0.5803922 ],\n",
      "         [0.654902  , 0.5529412 , 0.5254902 ]],\n",
      "\n",
      "        ...,\n",
      "\n",
      "        [[0.62352943, 0.5294118 , 0.52156866],\n",
      "         [0.6784314 , 0.5803922 , 0.58431375],\n",
      "         [0.6862745 , 0.5764706 , 0.57254905],\n",
      "         ...,\n",
      "         [0.70980394, 0.61960787, 0.6       ],\n",
      "         [0.69411767, 0.6392157 , 0.63529414],\n",
      "         [0.65882355, 0.6117647 , 0.6156863 ]],\n",
      "\n",
      "        [[0.60784316, 0.5137255 , 0.5058824 ],\n",
      "         [0.6509804 , 0.54901963, 0.56078434],\n",
      "         [0.67058825, 0.58431375, 0.60784316],\n",
      "         ...,\n",
      "         [0.70980394, 0.63529414, 0.627451  ],\n",
      "         [0.6901961 , 0.6039216 , 0.6117647 ],\n",
      "         [0.6431373 , 0.59607846, 0.6039216 ]],\n",
      "\n",
      "        [[0.6       , 0.5019608 , 0.4901961 ],\n",
      "         [0.64705884, 0.5764706 , 0.5921569 ],\n",
      "         [0.6627451 , 0.5803922 , 0.5921569 ],\n",
      "         ...,\n",
      "         [0.67058825, 0.5882353 , 0.5764706 ],\n",
      "         [0.6784314 , 0.6313726 , 0.63529414],\n",
      "         [0.5921569 , 0.54901963, 0.5647059 ]]]], dtype=float32), array([0, 0, 0, 0, 0, 0, 0, 0, 0, 0, 0, 0, 0, 0, 0, 0, 0, 1]))\n"
     ]
    }
   ],
   "source": [
    "tensor = ds_train.make_one_shot_iterator().get_next()\n",
    "with tf.Session() as session:\n",
    "    print(session.run(tensor))\n"
   ]
  },
  {
   "cell_type": "code",
   "execution_count": 67,
   "metadata": {},
   "outputs": [],
   "source": [
    "IM_SIZE = 28\n",
    "\n",
    "image_input = tf.keras.Input(shape = (IM_SIZE, IM_SIZE, 3), name = 'input_layer')"
   ]
  },
  {
   "cell_type": "code",
   "execution_count": 68,
   "metadata": {},
   "outputs": [],
   "source": [
    "conv_1 = tf.keras.layers.Conv2D(32, kernel_size = (3,3),\n",
    "                              padding = 'same',\n",
    "                              activation = 'relu')(image_input)"
   ]
  },
  {
   "cell_type": "code",
   "execution_count": 69,
   "metadata": {},
   "outputs": [],
   "source": [
    "conv1 = tf.keras.layers.MaxPooling2D(padding = 'same')(conv_1)"
   ]
  },
  {
   "cell_type": "code",
   "execution_count": 70,
   "metadata": {},
   "outputs": [],
   "source": [
    "conv_2 = tf.keras.layers.Conv2D(32, kernel_size = (3,3), padding = 'same',\n",
    "                               activation = 'relu')(conv_1)"
   ]
  },
  {
   "cell_type": "code",
   "execution_count": 71,
   "metadata": {},
   "outputs": [],
   "source": [
    "conv_flat = tf.keras.layers.Flatten()(conv_2)"
   ]
  },
  {
   "cell_type": "code",
   "execution_count": 72,
   "metadata": {},
   "outputs": [],
   "source": [
    "fc_1 = tf.keras.layers.Dense(28,\n",
    "                             activation='relu')(conv_flat)\n",
    "fc_1 = tf.keras.layers.Dropout(0.2)(fc_1)\n",
    "fc_2 = tf.keras.layers.Dense(28,\n",
    "                             activation='relu')(fc_1)\n",
    "fc_2 = tf.keras.layers.Dropout(0.4)(fc_2)"
   ]
  },
  {
   "cell_type": "code",
   "execution_count": 73,
   "metadata": {},
   "outputs": [],
   "source": [
    "label_output = tf.keras.layers.Dense(2,\n",
    "                                       activation='softmax',\n",
    "                                       name='label')(fc_2)"
   ]
  },
  {
   "cell_type": "code",
   "execution_count": 74,
   "metadata": {},
   "outputs": [],
   "source": [
    "model = tf.keras.Model(inputs = image_input, outputs = [label_output])"
   ]
  },
  {
   "cell_type": "code",
   "execution_count": 75,
   "metadata": {},
   "outputs": [
    {
     "name": "stdout",
     "output_type": "stream",
     "text": [
      "_________________________________________________________________\n",
      "Layer (type)                 Output Shape              Param #   \n",
      "=================================================================\n",
      "input_layer (InputLayer)     (None, 28, 28, 3)         0         \n",
      "_________________________________________________________________\n",
      "conv2d_4 (Conv2D)            (None, 28, 28, 32)        896       \n",
      "_________________________________________________________________\n",
      "conv2d_5 (Conv2D)            (None, 28, 28, 32)        9248      \n",
      "_________________________________________________________________\n",
      "flatten_2 (Flatten)          (None, 25088)             0         \n",
      "_________________________________________________________________\n",
      "dense_4 (Dense)              (None, 28)                702492    \n",
      "_________________________________________________________________\n",
      "dropout_4 (Dropout)          (None, 28)                0         \n",
      "_________________________________________________________________\n",
      "dense_5 (Dense)              (None, 28)                812       \n",
      "_________________________________________________________________\n",
      "dropout_5 (Dropout)          (None, 28)                0         \n",
      "_________________________________________________________________\n",
      "label (Dense)                (None, 2)                 58        \n",
      "=================================================================\n",
      "Total params: 713,506\n",
      "Trainable params: 713,506\n",
      "Non-trainable params: 0\n",
      "_________________________________________________________________\n",
      "None\n"
     ]
    }
   ],
   "source": [
    "print(model.summary())"
   ]
  },
  {
   "cell_type": "code",
   "execution_count": 76,
   "metadata": {},
   "outputs": [],
   "source": [
    "model.compile(optimizer = 'adam', loss = 'categorical_crossentropy', metrics = ['accuracy'])"
   ]
  },
  {
   "cell_type": "code",
   "execution_count": 77,
   "metadata": {},
   "outputs": [
    {
     "name": "stdout",
     "output_type": "stream",
     "text": [
      "Epoch 1/5\n",
      "900/900 [==============================] - 51s 57ms/step - loss: 0.4990 - acc: 0.8091\n",
      "Epoch 2/5\n",
      "900/900 [==============================] - 51s 57ms/step - loss: 0.4578 - acc: 0.8168\n",
      "Epoch 3/5\n",
      "900/900 [==============================] - 51s 57ms/step - loss: 0.3884 - acc: 0.8275\n",
      "Epoch 4/5\n",
      "900/900 [==============================] - 50s 56ms/step - loss: 0.2951 - acc: 0.8499\n",
      "Epoch 5/5\n",
      "900/900 [==============================] - 52s 57ms/step - loss: 0.2049 - acc: 0.8919\n"
     ]
    }
   ],
   "source": [
    "history = model.fit(ds_train, steps_per_epoch = 900, epochs = 5\n",
    "                   )"
   ]
  },
  {
   "cell_type": "code",
   "execution_count": 78,
   "metadata": {},
   "outputs": [
    {
     "name": "stdout",
     "output_type": "stream",
     "text": [
      "dict_keys(['loss', 'acc'])\n"
     ]
    }
   ],
   "source": [
    "print(history.history.keys())"
   ]
  },
  {
   "cell_type": "code",
   "execution_count": 79,
   "metadata": {},
   "outputs": [
    {
     "data": {
      "text/plain": [
       "array([[9.9998248e-01, 1.7547667e-05],\n",
       "       [9.5324194e-01, 4.6758063e-02],\n",
       "       [9.9979156e-01, 2.0841477e-04],\n",
       "       [9.6155304e-01, 3.8447011e-02],\n",
       "       [9.9176800e-01, 8.2319779e-03],\n",
       "       [9.9999452e-01, 5.5397290e-06],\n",
       "       [9.9712449e-01, 2.8754836e-03],\n",
       "       [9.8089212e-01, 1.9107908e-02],\n",
       "       [9.9028075e-01, 9.7192787e-03],\n",
       "       [9.9954671e-01, 4.5322004e-04],\n",
       "       [8.3438748e-01, 1.6561255e-01],\n",
       "       [1.0000000e+00, 1.4516065e-08],\n",
       "       [7.8595877e-01, 2.1404125e-01],\n",
       "       [9.8079842e-01, 1.9201599e-02],\n",
       "       [9.9190712e-01, 8.0928411e-03],\n",
       "       [9.9989700e-01, 1.0297203e-04],\n",
       "       [9.9101138e-01, 8.9885704e-03],\n",
       "       [1.5509464e-02, 9.8449057e-01]], dtype=float32)"
      ]
     },
     "execution_count": 79,
     "metadata": {},
     "output_type": "execute_result"
    }
   ],
   "source": [
    "model.predict(ds_train, steps =1)"
   ]
  },
  {
   "cell_type": "code",
   "execution_count": 21,
   "metadata": {},
   "outputs": [
    {
     "data": {
      "text/plain": [
       "Text(0.5, 0, 'epoch')"
      ]
     },
     "execution_count": 21,
     "metadata": {},
     "output_type": "execute_result"
    },
    {
     "data": {
      "image/png": "[encoded data removed]",
      "text/plain": [
       "<Figure size 432x288 with 1 Axes>"
      ]
     },
     "metadata": {
      "needs_background": "light"
     },
     "output_type": "display_data"
    }
   ],
   "source": [
    "plt.plot(history.history['loss'])\n",
    "plt.xlabel('epoch')"
   ]
  },
  {
   "cell_type": "code",
   "execution_count": 22,
   "metadata": {},
   "outputs": [
    {
     "data": {
      "text/plain": [
       "Text(0.5, 0, 'epoch')"
      ]
     },
     "execution_count": 22,
     "metadata": {},
     "output_type": "execute_result"
    },
    {
     "data": {
      "image/png": "[encoded data removed]",
      "text/plain": [
       "<Figure size 432x288 with 1 Axes>"
      ]
     },
     "metadata": {
      "needs_background": "light"
     },
     "output_type": "display_data"
    }
   ],
   "source": [
    "plt.plot(history.history['acc'])\n",
    "plt.xlabel('epoch')"
   ]
  },
  {
   "cell_type": "code",
   "execution_count": null,
   "metadata": {},
   "outputs": [],
   "source": []
  }
 ],
 "metadata": {
  "kernelspec": {
   "display_name": "Python 3",
   "language": "python",
   "name": "python3"
  },
  "language_info": {
   "codemirror_mode": {
    "name": "ipython",
    "version": 3
   },
   "file_extension": ".py",
   "mimetype": "text/x-python",
   "name": "python",
   "nbconvert_exporter": "python",
   "pygments_lexer": "ipython3",
   "version": "3.6.6"
  }
 },
 "nbformat": 4,
 "nbformat_minor": 2
}
